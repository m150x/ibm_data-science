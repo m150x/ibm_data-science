{
 "cells": [
  {
   "cell_type": "markdown",
   "id": "1f6ff7ae-9555-4585-96b4-3ca8eeed95e4",
   "metadata": {},
   "source": [
    "# Data Science Tools and Ecosystem"
   ]
  },
  {
   "cell_type": "markdown",
   "id": "6a257e56-5e55-41b4-89cc-3854558b9d63",
   "metadata": {},
   "source": [
    "In this notebook, Data Science Tools and Ecosystem are summarized."
   ]
  },
  {
   "cell_type": "markdown",
   "id": "f30fe0e9-69ee-42ff-83b7-65e734e8205c",
   "metadata": {},
   "source": [
    "Some of the popular languages that Data Scientists use are:\n",
    "1. Python\n",
    "2. R\n",
    "3. SQL\n",
    "4. JavaScript\n",
    "5. C++"
   ]
  },
  {
   "cell_type": "markdown",
   "id": "faf97fdb-0360-4852-a476-70d7f1093dd0",
   "metadata": {},
   "source": [
    "Some of the commonly used libraries used by Data Scientists include:\n",
    "1. numpy\n",
    "2. pandas\n",
    "3. matplotlib\n",
    "4. seaborn"
   ]
  },
  {
   "cell_type": "markdown",
   "id": "dedf2967-5f3d-4f03-b49f-f71a0045b5a3",
   "metadata": {},
   "source": [
    "|Data Science Tools|\n",
    "|-------------------|\n",
    "|Jupyter Notebook|\n",
    "|Spyder|\n",
    "|Visual Studio|"
   ]
  },
  {
   "cell_type": "markdown",
   "id": "cf696e97-0675-4c9b-b542-e4df20282972",
   "metadata": {},
   "source": [
    "### Below are a few examples of evaluating arithmetic expressions in Python"
   ]
  },
  {
   "cell_type": "code",
   "execution_count": 4,
   "id": "eb6c051a-5347-4aee-a03d-d82c461a9f11",
   "metadata": {},
   "outputs": [
    {
     "data": {
      "text/plain": [
       "17"
      ]
     },
     "execution_count": 4,
     "metadata": {},
     "output_type": "execute_result"
    }
   ],
   "source": [
    "#This a simple arithmetic expression to mutiply then add integers\n",
    "x = (3*4)+5\n",
    "x"
   ]
  },
  {
   "cell_type": "code",
   "execution_count": 5,
   "id": "998f2511-2408-4070-8d2f-bb6a654f925c",
   "metadata": {},
   "outputs": [
    {
     "data": {
      "text/plain": [
       "3.3333333333333335"
      ]
     },
     "execution_count": 5,
     "metadata": {},
     "output_type": "execute_result"
    }
   ],
   "source": [
    "#This will convert 200 minutes to hours by diving by 60\n",
    "y = 200/60\n",
    "y"
   ]
  },
  {
   "cell_type": "markdown",
   "id": "71a79df8-6da4-43fe-baa6-5ce6b07da54e",
   "metadata": {},
   "source": [
    "**Objectives:**\n",
    "- List popular languages for Data Science\n",
    "- List popular libraries for Data Science\n",
    "- List popular Data Science Tools\n",
    "- General Hands-on Practice              "
   ]
  },
  {
   "cell_type": "markdown",
   "id": "bbfff45c-be2c-4cd3-a3d7-93fa1ffd9784",
   "metadata": {},
   "source": [
    "## Author\n",
    "Richard Feuchtinger"
   ]
  },
  {
   "cell_type": "code",
   "execution_count": null,
   "id": "99d21f73-5ce8-45dc-844c-22635784ca60",
   "metadata": {},
   "outputs": [],
   "source": []
  }
 ],
 "metadata": {
  "kernelspec": {
   "display_name": "Python 3 (ipykernel)",
   "language": "python",
   "name": "python3"
  },
  "language_info": {
   "codemirror_mode": {
    "name": "ipython",
    "version": 3
   },
   "file_extension": ".py",
   "mimetype": "text/x-python",
   "name": "python",
   "nbconvert_exporter": "python",
   "pygments_lexer": "ipython3",
   "version": "3.11.2"
  }
 },
 "nbformat": 4,
 "nbformat_minor": 5
}
